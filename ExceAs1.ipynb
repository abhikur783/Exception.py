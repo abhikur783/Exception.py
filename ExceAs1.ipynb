{
 "cells": [
  {
   "cell_type": "code",
   "execution_count": null,
   "id": "67557232-5395-4b36-b064-6feac442ccab",
   "metadata": {},
   "outputs": [],
   "source": [
    "Q1. what is  an exception in python ?write the difference between Exception and syntax errors.\n",
    "Ans : Exception  is nothing but run time errors and it occurs due to incorrect implemantaion of logic.\n",
    "\n",
    "The main differences between exceptions and syntax errors are:\n",
    "    \n",
    "Exceptions occur during the execution of a program, while syntax errors occur when the code is parsed before the program is executed.\n",
    "Exceptions are caused by errors in the logic or flow of the program, while syntax errors are caused by mistakes in the code itself.\n",
    "Exceptions are handled by the program through the use of try-except blocks, while syntax errors must be fixed by correcting the code.\n",
    "In summary, exceptions and syntax errors are both types of errors that can occur in Python code, but they have different causes and are\n",
    "handled differently.\n",
    "\n",
    "\n",
    "\n",
    "\n",
    "\n",
    "    "
   ]
  },
  {
   "cell_type": "code",
   "execution_count": null,
   "id": "7c8ed75f-d62f-45a0-a81e-7f186d312b11",
   "metadata": {},
   "outputs": [],
   "source": [
    "Q2.what happens when an exception is not handled? explain with an example.\n",
    "Ans:\n",
    "In programming, when an exception is not handled, the program will terminate abruptly, and the user will receive an error message.\n",
    "This can cause data loss or corruption and may also cause unexpected behavior of the program.\n",
    "\n",
    "For example, consider the following Python code snippet:"
   ]
  },
  {
   "cell_type": "code",
   "execution_count": 3,
   "id": "6eceadbc-9731-457d-b8c9-831659623c04",
   "metadata": {},
   "outputs": [
    {
     "ename": "ZeroDivisionError",
     "evalue": "division by zero",
     "output_type": "error",
     "traceback": [
      "\u001b[0;31m---------------------------------------------------------------------------\u001b[0m",
      "\u001b[0;31mZeroDivisionError\u001b[0m                         Traceback (most recent call last)",
      "Cell \u001b[0;32mIn[3], line 3\u001b[0m\n\u001b[1;32m      1\u001b[0m x \u001b[38;5;241m=\u001b[39m \u001b[38;5;241m10\u001b[39m\n\u001b[1;32m      2\u001b[0m y \u001b[38;5;241m=\u001b[39m \u001b[38;5;241m0\u001b[39m\n\u001b[0;32m----> 3\u001b[0m result \u001b[38;5;241m=\u001b[39m \u001b[43mx\u001b[49m\u001b[43m \u001b[49m\u001b[38;5;241;43m/\u001b[39;49m\u001b[43m \u001b[49m\u001b[43my\u001b[49m\n\u001b[1;32m      4\u001b[0m \u001b[38;5;28mprint\u001b[39m(result)\n",
      "\u001b[0;31mZeroDivisionError\u001b[0m: division by zero"
     ]
    }
   ],
   "source": [
    "x = 10\n",
    "y = 0\n",
    "result = x / y\n",
    "print(result)\n"
   ]
  },
  {
   "cell_type": "code",
   "execution_count": null,
   "id": "9a9f9a79-7598-45d9-a15b-261fad7260f6",
   "metadata": {},
   "outputs": [],
   "source": [
    "In this example, we are trying to divide 10 by 0, which will result in a ZeroDivisionError. If we don't handle this exception, \n",
    "the program will terminate abruptly, and the user will receive an error message like this:"
   ]
  },
  {
   "cell_type": "code",
   "execution_count": null,
   "id": "bb011383-e125-4c53-af3e-33cff4c8c487",
   "metadata": {},
   "outputs": [],
   "source": [
    "This error message indicates that an exception occurred, but it was not handled, and the program terminated without completing its execution.\n",
    "\n",
    "If we want to handle this exception, we can use a try-except block, like this:"
   ]
  },
  {
   "cell_type": "code",
   "execution_count": 2,
   "id": "eb44603c-6c6e-4420-bd4d-0d42875e2e93",
   "metadata": {},
   "outputs": [
    {
     "name": "stdout",
     "output_type": "stream",
     "text": [
      "Cannot divide by zero\n"
     ]
    }
   ],
   "source": [
    "x = 10\n",
    "y = 0\n",
    "try:\n",
    "    result = x / y\n",
    "    print(result)\n",
    "except ZeroDivisionError:\n",
    "    print(\"Cannot divide by zero\")\n"
   ]
  },
  {
   "cell_type": "code",
   "execution_count": null,
   "id": "410aa078-8b4f-4730-921e-eddfeed1a347",
   "metadata": {},
   "outputs": [],
   "source": [
    "In this example, we are catching the ZeroDivisionError exception and handling it by printing a user-friendly message instead of\n",
    "letting the program terminate abruptly."
   ]
  },
  {
   "cell_type": "code",
   "execution_count": null,
   "id": "50c91bf3-b7fa-4846-8118-3b813fdc25ac",
   "metadata": {},
   "outputs": [],
   "source": [
    "Q3. which python statements are used to catch and handle exceptions ?Explain with example\n",
    "Ans:\n",
    "In Python, we can use the try-except statement to catch and handle exceptions. The try block contains the code that might raise an exception, \n",
    "and the except block contains the code that will be executed if an exception is raised."
   ]
  },
  {
   "cell_type": "code",
   "execution_count": 5,
   "id": "15aa5241-e8d1-4d22-ab47-2c61b16601b5",
   "metadata": {},
   "outputs": [
    {
     "name": "stdin",
     "output_type": "stream",
     "text": [
      "Enter a number:  4\n",
      "Enter another number:  2\n"
     ]
    },
    {
     "name": "stdout",
     "output_type": "stream",
     "text": [
      "The result is: 2.0\n"
     ]
    }
   ],
   "source": [
    "#Here is an example:\n",
    "try:\n",
    "    x = int(input(\"Enter a number: \"))\n",
    "    \n",
    "    y = int(input(\"Enter another number: \"))\n",
    "    \n",
    "    result = x / y\n",
    "    \n",
    "    print(\"The result is:\", result)\n",
    "    \n",
    "except ValueError:\n",
    "    \n",
    "    print(\"Please enter a valid integer.\")\n",
    "    \n",
    "except ZeroDivisionError:\n",
    "    \n",
    "    print(\"Cannot divide by zero.\")"
   ]
  },
  {
   "cell_type": "code",
   "execution_count": null,
   "id": "8e111050-c941-4997-b51f-dc0b23d19f48",
   "metadata": {},
   "outputs": [],
   "source": [
    "In this example, we are using the try-except statement to catch and handle two different types of exceptions: ValueError and ZeroDivisionError.\n",
    "\n",
    "The code in the try block takes two inputs from the user, converts them to integers, performs a division, and prints the result. However, \n",
    "if the user enters a non-integer value for either input, a ValueError will be raised, and if the user enters 0 as the second input,\n",
    "a ZeroDivisionError will be raised.\n",
    "\n",
    "To handle these exceptions, we use two except blocks. The first except block handles the ValueError exception by printing a user-friendly message, \n",
    "and the second except block handles the ZeroDivisionError exception in the same way.\n",
    "\n",
    "If an exception is raised in the try block, the corresponding except block will be executed, and the program will continue to run. \n",
    "If no exception is raised, the code in the except block will be skipped, and the program will continue with the rest of the code."
   ]
  },
  {
   "cell_type": "code",
   "execution_count": null,
   "id": "2fecb1d0-3e87-4633-ba65-dd580dbd06fd",
   "metadata": {},
   "outputs": [],
   "source": [
    "Explain with an example:\n",
    "a.try and else\n",
    "b.finally\n",
    "c.raise"
   ]
  },
  {
   "cell_type": "code",
   "execution_count": 2,
   "id": "d4ea684c-4c88-4e74-ad7c-731b16f02c9a",
   "metadata": {},
   "outputs": [
    {
     "name": "stdin",
     "output_type": "stream",
     "text": [
      "Enter a number:  0\n"
     ]
    },
    {
     "name": "stdout",
     "output_type": "stream",
     "text": [
      "You can't divide by zero!\n"
     ]
    }
   ],
   "source": [
    "try:\n",
    "    x = int(input(\"Enter a number: \"))\n",
    "    y = 10 / x\n",
    "    print(y)\n",
    "except ZeroDivisionError:\n",
    "    print(\"You can't divide by zero!\")\n"
   ]
  },
  {
   "cell_type": "code",
   "execution_count": null,
   "id": "e872b9f0-c71a-452a-b652-dfbc8559fe82",
   "metadata": {},
   "outputs": [],
   "source": [
    "In this example, the try block attempts to read a number from the user and then divides it by 10.\n",
    "If the user enters a value of zero, a ZeroDivisionError exception will be raised.\n",
    "The except block will then catch this exception and print an error message."
   ]
  },
  {
   "cell_type": "code",
   "execution_count": null,
   "id": "1294b685-2cfe-431f-842b-4936c55236f2",
   "metadata": {},
   "outputs": [],
   "source": [
    "he try block can also have an else clause, which is executed if no exceptions are raised. Here's an example:"
   ]
  },
  {
   "cell_type": "code",
   "execution_count": 4,
   "id": "0610b011-44ec-4f1e-ba0e-a7a32dbdec53",
   "metadata": {},
   "outputs": [
    {
     "name": "stdin",
     "output_type": "stream",
     "text": [
      "Enter a number:  2\n"
     ]
    },
    {
     "name": "stdout",
     "output_type": "stream",
     "text": [
      "The result is 5.0\n"
     ]
    }
   ],
   "source": [
    "try:\n",
    "    x = int(input(\"Enter a number: \"))\n",
    "    y = 10 / x\n",
    "except ZeroDivisionError:\n",
    "    print(\"You can't divide by zero!\")\n",
    "else:\n",
    "    print(\"The result is\", y)\n"
   ]
  },
  {
   "cell_type": "code",
   "execution_count": null,
   "id": "0ab8da9e-d6be-4c85-b16d-4090469f4012",
   "metadata": {},
   "outputs": [],
   "source": [
    "In this example, the else block is executed only if no exception is raised in the try block. \n",
    "The else block will print the value of y."
   ]
  },
  {
   "cell_type": "code",
   "execution_count": 5,
   "id": "4197728a-9f1b-4188-8b84-7a055257ca40",
   "metadata": {},
   "outputs": [
    {
     "name": "stdin",
     "output_type": "stream",
     "text": [
      "Enter a number:  0\n"
     ]
    },
    {
     "name": "stdout",
     "output_type": "stream",
     "text": [
      "You can't divide by zero!\n",
      "This code will always run.\n"
     ]
    }
   ],
   "source": [
    "try:\n",
    "    x = int(input(\"Enter a number: \"))\n",
    "    y = 10 / x\n",
    "except ZeroDivisionError:\n",
    "    print(\"You can't divide by zero!\")\n",
    "else:\n",
    "    print(\"The result is\", y)\n",
    "finally:\n",
    "    print(\"This code will always run.\")\n"
   ]
  },
  {
   "cell_type": "code",
   "execution_count": null,
   "id": "817d2b28-f1f0-415f-ad64-ce9086942771",
   "metadata": {},
   "outputs": [],
   "source": [
    "In this example, the finally block will always be executed, regardless of whether an exception is raised or not.\n",
    "The finally block will print a message indicating that it has run."
   ]
  },
  {
   "cell_type": "code",
   "execution_count": 6,
   "id": "f68f395b-6bb4-47ff-b4c9-7ebc97e9dcf9",
   "metadata": {},
   "outputs": [
    {
     "name": "stdout",
     "output_type": "stream",
     "text": [
      "You can't divide by zero!\n"
     ]
    }
   ],
   "source": [
    "def divide(x, y):\n",
    "    if y == 0:\n",
    "        raise ZeroDivisionError(\"You can't divide by zero!\")\n",
    "    else:\n",
    "        return x / y\n",
    "\n",
    "try:\n",
    "    result = divide(10,0 )\n",
    "except ZeroDivisionError as e:\n",
    "    print(e)\n"
   ]
  },
  {
   "cell_type": "code",
   "execution_count": 5,
   "id": "81a18d13-f007-41e9-9292-87122692f9b8",
   "metadata": {},
   "outputs": [
    {
     "ename": "SyntaxError",
     "evalue": "invalid syntax (3784071549.py, line 1)",
     "output_type": "error",
     "traceback": [
      "\u001b[0;36m  Cell \u001b[0;32mIn[5], line 1\u001b[0;36m\u001b[0m\n\u001b[0;31m    In this example, the divide function checks whether the second argument is zero,and raises a ZeroDivisionErro\u001b[0m\n\u001b[0m       ^\u001b[0m\n\u001b[0;31mSyntaxError\u001b[0m\u001b[0;31m:\u001b[0m invalid syntax\n"
     ]
    }
   ],
   "source": [
    "In this example, the divide function checks whether the second argument is zero,and raises a ZeroDivisionErro\n",
    "exception if it is. The try block then calls the dividefunction with y=0, causing an exception to be raised. \n",
    "The except block catches the exception and prints the error message."
   ]
  },
  {
   "cell_type": "code",
   "execution_count": null,
   "id": "432915fd-1d92-403c-9109-5946d44f3a78",
   "metadata": {},
   "outputs": [],
   "source": [
    "Q5.what are custom Exceptions in python ?why do we need custom Exception with an example\n",
    "Ans:\n",
    "In Python, custom exceptions are user-defined exceptions that allow you to create your own error conditions \n",
    "and provide more specific error messages to users. Custom exceptions are useful because they provide more\n",
    "meaningful error messages and make your code moremaintainable.\n",
    "\n",
    "To create a custom exception in Python, you can define a new class that inherits from the built-in Exception\n",
    "class or one of its subclasses, such as ValueError or TypeError. Here's an example of a custom exception that \n",
    "could be used in a program that performs calculations:"
   ]
  },
  {
   "cell_type": "code",
   "execution_count": 23,
   "id": "5eb65651-824d-4fc3-be75-f294556b56c0",
   "metadata": {},
   "outputs": [],
   "source": [
    "class CalculationError(Exception):\n",
    "    def __init__(self, message):\n",
    "        self.message = message\n"
   ]
  },
  {
   "cell_type": "code",
   "execution_count": 24,
   "id": "0f45d616-9206-41da-bf9f-563ea185614b",
   "metadata": {},
   "outputs": [
    {
     "name": "stdout",
     "output_type": "stream",
     "text": [
      "Cannot divide by zero\n"
     ]
    }
   ],
   "source": [
    "def divide(a, b):\n",
    "    if b == 0:\n",
    "        raise CalculationError(\"Cannot divide by zero\")\n",
    "    return a / b\n",
    "\n",
    "try:\n",
    "    result = divide(10, 0)\n",
    "except CalculationError as e:\n",
    "    print(e.message)\n"
   ]
  },
  {
   "cell_type": "code",
   "execution_count": null,
   "id": "45f06f78-19e1-4ec0-9c0c-9150b79d3dd1",
   "metadata": {},
   "outputs": [],
   "source": [
    "In this example, the divide function raises a CalculationError exception if the second argument is zero. \n",
    "When the exception is caught in the try block, the error message is printed to the console. \n",
    "This allows the user to quickly understand what went wrong and take appropriate action.\n",
    "\n",
    "In summary, custom exceptions in Python allow you to create your own error conditions and provide more\n",
    "specific error messages to users, which makes your code more maintainable and easier to understan"
   ]
  },
  {
   "cell_type": "code",
   "execution_count": null,
   "id": "3de154eb-d813-456c-9587-b1ecb6985db1",
   "metadata": {},
   "outputs": [],
   "source": [
    "6Create a custom exception class . Use this class handle an exception. "
   ]
  },
  {
   "cell_type": "code",
   "execution_count": 25,
   "id": "a3b75796-e1de-4f0d-80fc-e84be301423a",
   "metadata": {},
   "outputs": [
    {
     "name": "stdout",
     "output_type": "stream",
     "text": [
      "Error: Something went wrong. Error Code: 500\n"
     ]
    }
   ],
   "source": [
    "class MyCustomException(Exception):\n",
    "    def __init__(self, message):\n",
    "        super().__init__(message)\n",
    "        self.error_code = 500\n",
    "\n",
    "def my_function():\n",
    "    raise MyCustomException(\"Something went wrong\")\n",
    "\n",
    "try:\n",
    "    my_function()\n",
    "except MyCustomException as e:\n",
    "    print(f\"Error: {e}. Error Code: {e.error_code}\")\n"
   ]
  }
 ],
 "metadata": {
  "kernelspec": {
   "display_name": "Python 3 (ipykernel)",
   "language": "python",
   "name": "python3"
  },
  "language_info": {
   "codemirror_mode": {
    "name": "ipython",
    "version": 3
   },
   "file_extension": ".py",
   "mimetype": "text/x-python",
   "name": "python",
   "nbconvert_exporter": "python",
   "pygments_lexer": "ipython3",
   "version": "3.10.8"
  }
 },
 "nbformat": 4,
 "nbformat_minor": 5
}
